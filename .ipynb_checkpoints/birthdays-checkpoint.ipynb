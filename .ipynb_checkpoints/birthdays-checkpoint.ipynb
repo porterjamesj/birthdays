{
 "cells": [
  {
   "cell_type": "code",
   "execution_count": 137,
   "metadata": {
    "collapsed": false
   },
   "outputs": [],
   "source": [
    "import pandas as pd\n",
    "from dateutil.parser import parse\n",
    "from datetime import datetime\n",
    "\n",
    "from matplotlib import pyplot as plt\n",
    "plt.style.use(\"seaborn-ticks\")"
   ]
  },
  {
   "cell_type": "code",
   "execution_count": 34,
   "metadata": {
    "collapsed": false
   },
   "outputs": [],
   "source": [
    "birthdays = [parse(bd) for bd in [\n",
    "        \"01-27\",\n",
    "        \"03-02\",\n",
    "        \"04-11\",\n",
    "        \"04-25\",\n",
    "        \"04-26\",\n",
    "        \"07-22\",\n",
    "        \"08-06\",\n",
    "        \"08-25\",\n",
    "        \"09-03\",\n",
    "        \"09-14\",\n",
    "        \"10-11\",\n",
    "        \"10-21\",\n",
    "        \"11-21\",\n",
    "        \"12-12\",\n",
    "    ]]"
   ]
  },
  {
   "cell_type": "code",
   "execution_count": 38,
   "metadata": {
    "collapsed": false
   },
   "outputs": [],
   "source": [
    "df = pd.DataFrame(birthdays, columns=['birthdays'])\n",
    "df['ordinal'] = [x.toordinal() for x in df.birthdays]"
   ]
  },
  {
   "cell_type": "code",
   "execution_count": 138,
   "metadata": {
    "collapsed": false
   },
   "outputs": [],
   "source": [
    "ax = df['ordinal'].plot(\n",
    "    kind='kde',\n",
    "    xticks=pd.date_range('2016-01-01', periods=7, freq='2m'),\n",
    "    xlim=pd.date_range('2016-01-01', periods=2, freq='12m')\n",
    ")\n",
    "xlabels = [datetime.fromordinal(int(x)).strftime('%Y-%m-%d') for x in ax.get_xticks()]\n",
    "ax.set_xticklabels(xlabels)\n",
    "ax.set_title(\"Density of Important Birthdays\")\n",
    "ax.set_xlabel(\"Date\")\n",
    "ax.title.set_position([.5, 1.05])"
   ]
  },
  {
   "cell_type": "code",
   "execution_count": 139,
   "metadata": {
    "collapsed": false
   },
   "outputs": [],
   "source": [
    "plt.show()\n",
    "# plt.savefig(\"birthdays.png\", bbox_inches=\"tight\", dpi=500)"
   ]
  }
 ],
 "metadata": {
  "kernelspec": {
   "display_name": "Python 2",
   "language": "python",
   "name": "python2"
  },
  "language_info": {
   "codemirror_mode": {
    "name": "ipython",
    "version": 2
   },
   "file_extension": ".py",
   "mimetype": "text/x-python",
   "name": "python",
   "nbconvert_exporter": "python",
   "pygments_lexer": "ipython2",
   "version": "2.7.12"
  }
 },
 "nbformat": 4,
 "nbformat_minor": 1
}
